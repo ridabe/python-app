{
 "cells": [
  {
   "cell_type": "code",
   "execution_count": 2,
   "id": "2dc9b02c",
   "metadata": {},
   "outputs": [
    {
     "ename": "SyntaxError",
     "evalue": "cannot assign to expression here. Maybe you meant '==' instead of '='? (727535562.py, line 1)",
     "output_type": "error",
     "traceback": [
      "\u001b[0;36m  Cell \u001b[0;32mIn[2], line 1\u001b[0;36m\u001b[0m\n\u001b[0;31m    1 + 2**3 = 27\u001b[0m\n\u001b[0m    ^\u001b[0m\n\u001b[0;31mSyntaxError\u001b[0m\u001b[0;31m:\u001b[0m cannot assign to expression here. Maybe you meant '==' instead of '='?\n"
     ]
    }
   ],
   "source": [
    "1 + 2**3 = 27"
   ]
  },
  {
   "cell_type": "code",
   "execution_count": 20,
   "id": "f53f8490",
   "metadata": {},
   "outputs": [
    {
     "name": "stdout",
     "output_type": "stream",
     "text": [
      "Olá, Elysson! Seja bem vindo à nave Imperial dos Siths.\n",
      "Olá, Giulia! Seja bem vindo à nave Imperial dos Siths.\n",
      "Olá, Willian! Seja bem vindo à nave Imperial dos Siths.\n",
      "Olá, Gileno! Seja bem vindo à nave Imperial dos Siths.\n"
     ]
    }
   ],
   "source": [
    "nomes = ['Elysson', 'Giulia', 'Willian', 'Gileno']\n",
    "\n",
    "for nome in nomes:\n",
    "    print(f'Olá, {nome}! Seja bem vindo à nave Imperial dos Siths.')"
   ]
  }
 ],
 "metadata": {
  "kernelspec": {
   "display_name": "Python 3 (ipykernel)",
   "language": "python",
   "name": "python3"
  },
  "language_info": {
   "codemirror_mode": {
    "name": "ipython",
    "version": 3
   },
   "file_extension": ".py",
   "mimetype": "text/x-python",
   "name": "python",
   "nbconvert_exporter": "python",
   "pygments_lexer": "ipython3",
   "version": "3.10.8"
  }
 },
 "nbformat": 4,
 "nbformat_minor": 5
}
